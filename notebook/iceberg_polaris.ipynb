{
 "cells": [
  {
   "cell_type": "markdown",
   "id": "41d4f0d6-2459-4ba4-b17f-5ade1744bb21",
   "metadata": {},
   "source": [
    "# Iceberg with Polaris REST Catalog\n",
    "\n",
    "This notebook provides a basic code sample to initiate a connection to a REST catalog, create a table and insert some dummy data. \n",
    "\n",
    "## Prerequisites\n",
    "\n",
    "The catalog 'polariscatalog' needs to be created prior to executing this notebook. If not created PyIceberg will not be able to connect to the REST Catalog. \n",
    "Credentials also need to be updated."
   ]
  },
  {
   "cell_type": "code",
   "execution_count": 1,
   "id": "f830eb6f-481d-48af-a9f3-3563c4e25155",
   "metadata": {
    "tags": []
   },
   "outputs": [],
   "source": [
    "from pyiceberg.catalog import load_catalog\n",
    "from pyiceberg.schema import Schema\n",
    "from pyiceberg.types import (\n",
    "    TimestampType,\n",
    "    FloatType,\n",
    "    DoubleType,\n",
    "    StringType,\n",
    "    IntegerType,\n",
    "    NestedField,\n",
    "    StructType,\n",
    "    BooleanType)\n",
    "\n",
    "import pandas as pd\n",
    "import pyarrow.parquet as pq\n",
    "import pyarrow as pa"
   ]
  },
  {
   "cell_type": "code",
   "execution_count": 2,
   "id": "1835ebd5-9225-475c-8914-5fc9208db6d0",
   "metadata": {},
   "outputs": [],
   "source": [
    "database = \"haagenbergpolaris\"\n",
    "table_name = f\"{database}.test\"\n",
    "\n",
    "schema = Schema(\n",
    "    NestedField(field_id=1, name=\"id\", field_type=IntegerType(), required=True),\n",
    "    NestedField(field_id=2, name=\"name\", field_type=StringType(), required=False),\n",
    ")\n"
   ]
  },
  {
   "cell_type": "code",
   "execution_count": 3,
   "id": "6b41e714-fd4c-4959-b2ec-5d321f8dd95b",
   "metadata": {
    "tags": []
   },
   "outputs": [],
   "source": [
    "catalog = load_catalog(\n",
    "    \"rest_catalog\",\n",
    "    **{\n",
    "        \"uri\": \"http://localhost:8181/api/catalog\", \n",
    "        \"credential\": \"f4563fdc06cb3670:b2b29869e9106f7498ffc5d6055c295b\",\n",
    "        \"scope\": \"PRINCIPAL_ROLE:ALL\",\n",
    "        \"warehouse\": \"polariscatalog\"\n",
    "    }\n",
    ")"
   ]
  },
  {
   "cell_type": "code",
   "execution_count": 7,
   "id": "9ec8c7bb-8c24-435f-8c3a-91129af6cdd4",
   "metadata": {
    "tags": []
   },
   "outputs": [],
   "source": [
    "if 'haagenbergpolaris' not in str(catalog.list_namespaces()):\n",
    "    catalog.create_namespace(\"haagenbergpolaris\")\n",
    "\n",
    "if not catalog.table_exists(table_name):\n",
    "    table = catalog.create_table(table_name, schema=schema, location=f\"gs://tmp-erube-iceberg/polaris/{database}/test\")\n",
    "\n",
    "table = catalog.load_table(table_name)"
   ]
  },
  {
   "cell_type": "code",
   "execution_count": 5,
   "id": "97ae6283-6533-435d-ae42-c87b772b5f7f",
   "metadata": {
    "tags": []
   },
   "outputs": [
    {
     "data": {
      "text/plain": [
       "{'default-base-location': 'gs://tmp-erube-iceberg/polaris/',\n",
       " 'uri': 'http://localhost:8181/api/catalog',\n",
       " 'credential': 'f4563fdc06cb3670:b2b29869e9106f7498ffc5d6055c295b',\n",
       " 'scope': 'PRINCIPAL_ROLE:ALL',\n",
       " 'warehouse': 'polariscatalog',\n",
       " 'token': 'principal:polarisuser;password:b2b29869e9106f7498ffc5d6055c295b;realm:default-realm;role:ALL',\n",
       " 'prefix': 'polariscatalog'}"
      ]
     },
     "execution_count": 5,
     "metadata": {},
     "output_type": "execute_result"
    }
   ],
   "source": [
    "catalog.properties"
   ]
  },
  {
   "cell_type": "code",
   "execution_count": 8,
   "id": "d1c7693e-2fc4-48bd-ba26-0a9dc031c3ac",
   "metadata": {
    "tags": []
   },
   "outputs": [
    {
     "name": "stderr",
     "output_type": "stream",
     "text": [
      "/Users/herve.froc/anaconda3/lib/python3.11/site-packages/pydantic/main.py:398: UserWarning: Pydantic serializer warnings:\n",
      "  Expected `TableIdentifier` but got `dict` - serialized value may not be as expected\n",
      "  return self.__pydantic_serializer__.to_json(\n"
     ]
    }
   ],
   "source": [
    "df = pd.DataFrame([{\"id\": 1, \"name\":\"tug\"}, {\"id\": 3, \"name\":\"tug\"}])\n",
    "data = pa.Table.from_pandas(df, schema=pa.schema([\n",
    "    pa.field('id', pa.int32(), nullable=False),\n",
    "    ('name', pa.string())\n",
    "]))\n",
    "table.append(data)"
   ]
  },
  {
   "cell_type": "code",
   "execution_count": 9,
   "id": "af4f086c-d2a7-43ba-afbc-1a04a3bb5569",
   "metadata": {
    "tags": []
   },
   "outputs": [
    {
     "data": {
      "text/plain": [
       "test(\n",
       "  1: id: required int,\n",
       "  2: name: optional string\n",
       "),\n",
       "partition by: [],\n",
       "sort order: [],\n",
       "snapshot: Operation.APPEND: id=2331249421951049425, parent_id=2666045365096731415, schema_id=0"
      ]
     },
     "execution_count": 9,
     "metadata": {},
     "output_type": "execute_result"
    }
   ],
   "source": [
    "table"
   ]
  },
  {
   "cell_type": "code",
   "execution_count": null,
   "id": "12402555-241f-4b95-8883-0de9666326d8",
   "metadata": {},
   "outputs": [],
   "source": []
  }
 ],
 "metadata": {
  "kernelspec": {
   "display_name": "Python 3 (ipykernel)",
   "language": "python",
   "name": "python3"
  },
  "language_info": {
   "codemirror_mode": {
    "name": "ipython",
    "version": 3
   },
   "file_extension": ".py",
   "mimetype": "text/x-python",
   "name": "python",
   "nbconvert_exporter": "python",
   "pygments_lexer": "ipython3",
   "version": "3.11.6"
  }
 },
 "nbformat": 4,
 "nbformat_minor": 5
}
